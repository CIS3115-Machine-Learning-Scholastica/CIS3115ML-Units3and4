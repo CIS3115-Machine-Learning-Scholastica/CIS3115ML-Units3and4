{
  "nbformat": 4,
  "nbformat_minor": 0,
  "metadata": {
    "colab": {
      "name": "Practice 4: Classification of Iris data.ipynb",
      "version": "0.3.2",
      "provenance": [],
      "collapsed_sections": []
    },
    "kernelspec": {
      "name": "python3",
      "display_name": "Python 3"
    }
  },
  "cells": [
    {
      "metadata": {
        "id": "UcP0RHTjWP1q",
        "colab_type": "text"
      },
      "cell_type": "markdown",
      "source": [
        "# Practice 4: Traditional Classificaiton Methods\n",
        "\n",
        "Use this notebook as the starting point for the Practice activities.\n",
        "\n",
        "Student Name:    **[  Put your Name Here ]**\n",
        "\n",
        "[Video Walkthough by Tom](https://www.youtube.com/watch?v=8MfDdwiWuco)\n"
      ]
    },
    {
      "metadata": {
        "id": "0OF5TNdHWQua",
        "colab_type": "text"
      },
      "cell_type": "markdown",
      "source": [
        "## Revisit the Iris classification problem\n",
        "\n",
        "*Note: This description comes from [Google's Custom Training Walkthroughs](https://www.tensorflow.org/tutorials/eager/custom_training_walkthrough).*\n",
        "\n",
        "Imagine you are a botanist seeking an automated way to categorize each Iris flower you find. Machine learning provides many algorithms to classify flowers statistically. For instance, a sophisticated machine learning program could classify flowers based on photographs. Our ambitions are more modest—we're going to classify Iris flowers based on the length and width measurements of their [sepals](https://en.wikipedia.org/wiki/Sepal) and [petals](https://en.wikipedia.org/wiki/Petal).\n",
        "\n",
        "The Iris genus entails about 300 species, but our program will only classify the following three:\n",
        "\n",
        "* Iris setosa\n",
        "* Iris virginica\n",
        "* Iris versicolor\n",
        "\n",
        "<table>\n",
        "  <tr><td>\n",
        "    <img src=\"https://www.tensorflow.org/images/iris_three_species.jpg\"\n",
        "         alt=\"Petal geometry compared for three iris species: Iris setosa, Iris virginica, and Iris versicolor\">\n",
        "  </td></tr>\n",
        "  <tr><td align=\"center\">\n",
        "    <b>Figure 1.</b> <a href=\"https://commons.wikimedia.org/w/index.php?curid=170298\">Iris setosa</a> (by <a href=\"https://commons.wikimedia.org/wiki/User:Radomil\">Radomil</a>, CC BY-SA 3.0), <a href=\"https://commons.wikimedia.org/w/index.php?curid=248095\">Iris versicolor</a>, (by <a href=\"https://commons.wikimedia.org/wiki/User:Dlanglois\">Dlanglois</a>, CC BY-SA 3.0), and <a href=\"https://www.flickr.com/photos/33397993@N05/3352169862\">Iris virginica</a> (by <a href=\"https://www.flickr.com/photos/33397993@N05\">Frank Mayfield</a>, CC BY-SA 2.0).<br/>&nbsp;\n",
        "  </td></tr>\n",
        "</table>\n",
        "\n",
        "Fortunately, someone has already created a [data set of 120 Iris flowers](https://en.wikipedia.org/wiki/Iris_flower_data_set) with the sepal and petal measurements. This is a classic dataset that is popular for beginner machine learning classification problems.\n",
        "\n"
      ]
    },
    {
      "metadata": {
        "id": "jlo40V4GWE7K",
        "colab_type": "code",
        "colab": {}
      },
      "cell_type": "code",
      "source": [
        ""
      ],
      "execution_count": 0,
      "outputs": []
    },
    {
      "metadata": {
        "id": "KmZ4LSJ7XLR9",
        "colab_type": "text"
      },
      "cell_type": "markdown",
      "source": [
        "## Setting up Python tools\n",
        "\n",
        "\n",
        "\n",
        "We'll use three libraries for this tutorial: \n",
        "- [pandas](http://pandas.pydata.org/) : dataframes for spreadsheet-like data analysis, reading CSV files, time series\n",
        "- [numpy](http://www.numpy.org/) : for multidimensional data and linear algebra tools\n",
        "- [matplotlib](http://matplotlib.org/) : Simple plotting and graphing\n",
        "- [seaborn](http://stanford.edu/~mwaskom/software/seaborn/) : more advanced graphing\n",
        "\n",
        "\n"
      ]
    },
    {
      "metadata": {
        "id": "RHAUKyWlWQ9L",
        "colab_type": "code",
        "colab": {}
      },
      "cell_type": "code",
      "source": [
        "# First, we'll import pandas and numpy, two data processing libraries\n",
        "import pandas as pd\n",
        "import numpy as np\n",
        "\n",
        "# We'll also import seaborn and matplot, twp Python graphing libraries\n",
        "import seaborn as sns\n",
        "import matplotlib.pyplot as plt\n",
        "#sns.set(style=\"white\", color_codes=True)\n",
        "\n",
        "# We will turn off some warns in this notebook to make it easier to read for new students\n",
        "import warnings\n",
        "warnings.filterwarnings('ignore')"
      ],
      "execution_count": 0,
      "outputs": []
    },
    {
      "metadata": {
        "id": "Vz1Qt8p_U4g2",
        "colab_type": "text"
      },
      "cell_type": "markdown",
      "source": [
        "## Read in the Iris flower data\n",
        "The Iris flower data is read in from a file stored on the internet\n",
        "<p>\n",
        "It is stored in a Pandas DataFrame which is similar to an internal spreadsheet in that the data is stored in rows and columns."
      ]
    },
    {
      "metadata": {
        "id": "Zw-0pDmtWRAN",
        "colab_type": "code",
        "colab": {}
      },
      "cell_type": "code",
      "source": [
        "# Read in the data file from stored in a raw file in GitHub\n",
        "url = 'https://raw.githubusercontent.com/CIS3115-Machine-Learning-Scholastica/CIS3115ML-Units3and4/master/Iris.csv'\n",
        "iris = pd.read_csv(url)\n",
        "# Set the Id column as the index since it is unique for each flower\n",
        "iris.set_index('Id', inplace=True)"
      ],
      "execution_count": 0,
      "outputs": []
    },
    {
      "metadata": {
        "id": "qllYJsYUU5mT",
        "colab_type": "text"
      },
      "cell_type": "markdown",
      "source": [
        ""
      ]
    },
    {
      "metadata": {
        "id": "1OtgWe9yWRDZ",
        "colab_type": "code",
        "outputId": "5021d5b6-fd7f-4e5a-9d9f-0222364d6d97",
        "colab": {
          "base_uri": "https://localhost:8080/",
          "height": 228
        }
      },
      "cell_type": "code",
      "source": [
        "# Display the first 5 flowers to make sure the data was read in\n",
        "iris.head(5)"
      ],
      "execution_count": 14,
      "outputs": [
        {
          "output_type": "execute_result",
          "data": {
            "text/html": [
              "<div>\n",
              "<style scoped>\n",
              "    .dataframe tbody tr th:only-of-type {\n",
              "        vertical-align: middle;\n",
              "    }\n",
              "\n",
              "    .dataframe tbody tr th {\n",
              "        vertical-align: top;\n",
              "    }\n",
              "\n",
              "    .dataframe thead th {\n",
              "        text-align: right;\n",
              "    }\n",
              "</style>\n",
              "<table border=\"1\" class=\"dataframe\">\n",
              "  <thead>\n",
              "    <tr style=\"text-align: right;\">\n",
              "      <th></th>\n",
              "      <th>SepalLengthCm</th>\n",
              "      <th>SepalWidthCm</th>\n",
              "      <th>PetalLengthCm</th>\n",
              "      <th>PetalWidthCm</th>\n",
              "      <th>Species</th>\n",
              "    </tr>\n",
              "    <tr>\n",
              "      <th>Id</th>\n",
              "      <th></th>\n",
              "      <th></th>\n",
              "      <th></th>\n",
              "      <th></th>\n",
              "      <th></th>\n",
              "    </tr>\n",
              "  </thead>\n",
              "  <tbody>\n",
              "    <tr>\n",
              "      <th>1</th>\n",
              "      <td>5.1</td>\n",
              "      <td>3.5</td>\n",
              "      <td>1.4</td>\n",
              "      <td>0.2</td>\n",
              "      <td>Iris-setosa</td>\n",
              "    </tr>\n",
              "    <tr>\n",
              "      <th>2</th>\n",
              "      <td>4.9</td>\n",
              "      <td>3.0</td>\n",
              "      <td>1.4</td>\n",
              "      <td>0.2</td>\n",
              "      <td>Iris-setosa</td>\n",
              "    </tr>\n",
              "    <tr>\n",
              "      <th>3</th>\n",
              "      <td>4.7</td>\n",
              "      <td>3.2</td>\n",
              "      <td>1.3</td>\n",
              "      <td>0.2</td>\n",
              "      <td>Iris-setosa</td>\n",
              "    </tr>\n",
              "    <tr>\n",
              "      <th>4</th>\n",
              "      <td>4.6</td>\n",
              "      <td>3.1</td>\n",
              "      <td>1.5</td>\n",
              "      <td>0.2</td>\n",
              "      <td>Iris-setosa</td>\n",
              "    </tr>\n",
              "    <tr>\n",
              "      <th>5</th>\n",
              "      <td>5.0</td>\n",
              "      <td>3.6</td>\n",
              "      <td>1.4</td>\n",
              "      <td>0.2</td>\n",
              "      <td>Iris-setosa</td>\n",
              "    </tr>\n",
              "  </tbody>\n",
              "</table>\n",
              "</div>"
            ],
            "text/plain": [
              "    SepalLengthCm  SepalWidthCm  PetalLengthCm  PetalWidthCm      Species\n",
              "Id                                                                       \n",
              "1             5.1           3.5            1.4           0.2  Iris-setosa\n",
              "2             4.9           3.0            1.4           0.2  Iris-setosa\n",
              "3             4.7           3.2            1.3           0.2  Iris-setosa\n",
              "4             4.6           3.1            1.5           0.2  Iris-setosa\n",
              "5             5.0           3.6            1.4           0.2  Iris-setosa"
            ]
          },
          "metadata": {
            "tags": []
          },
          "execution_count": 14
        }
      ]
    },
    {
      "metadata": {
        "id": "_dSQCfftZ-AF",
        "colab_type": "text"
      },
      "cell_type": "markdown",
      "source": [
        "When we use machine learning models, we will general use these variables\n",
        "- X will be the input data, in this case the size of the flower's sepal and petals\n",
        "- y will be the out data or what we want to predict, in this case the species of iris\n",
        "\n",
        "One way to this of this, is that on the graphs above the x-axis is the house size and the y-axis is the price.\n",
        "\n",
        "We will also break the data using 80% of the flower samples for training the model and keeping 20% for testing the model\n",
        "\n",
        "- X_train : The iris sizes used for training the model\n",
        "- X_test : The iris sizes used for testing the model\n",
        "- y_train : The species used for training the model\n",
        "- y_test : The species used for testing the model\n",
        "\n",
        "We will only use the training data for fitting the model.\n"
      ]
    },
    {
      "metadata": {
        "id": "OqLNbqIzch1o",
        "colab_type": "code",
        "colab": {}
      },
      "cell_type": "code",
      "source": [
        "# Use the first four collumn for input into the model and the final iris label as output for training\n",
        "X = iris.iloc[:, 0:4]\n",
        "y = iris.iloc[:, 4]\n",
        "\n",
        "# feature_columns = ['SepalLengthCm', 'SepalWidthCm', 'PetalLengthCm','PetalWidthCm']\n",
        "# X = iris[feature_columns].values\n",
        "# y = iris['Species'].values\n",
        "\n",
        "from sklearn.model_selection import train_test_split\n",
        "# Split the data into 80% for training and 20% for testing out the models\n",
        "X_train, X_test, y_train, y_test = train_test_split(X, y.ravel(), test_size=0.2)"
      ],
      "execution_count": 0,
      "outputs": []
    },
    {
      "metadata": {
        "id": "VGyEY1aEWzjr",
        "colab_type": "code",
        "colab": {}
      },
      "cell_type": "code",
      "source": [
        ""
      ],
      "execution_count": 0,
      "outputs": []
    },
    {
      "metadata": {
        "id": "tdm6o-zXadw9",
        "colab_type": "text"
      },
      "cell_type": "markdown",
      "source": [
        "# Classifiers\n",
        "We will try out a couple traditional classifiers and compare them.\n",
        "<P>\n",
        "For a good comparison of classifiers see http://scikit-learn.org/stable/auto_examples/classification/plot_classifier_comparison.html#sphx-glr-auto-examples-classification-plot-classifier-comparison-py\n",
        "<P>\n",
        "We will focus on\n",
        "    - K-Nearest Neighbors or from sklearn.neighbors import KNeighborsClassifier\n",
        "    - Support Vector Machines (SVM) or from sklearn.svm import SVC\n",
        "    - Decision Trees or from sklearn.tree import DecisionTreeClassifier\n",
        "Note, in the next unit we will revisit these adding deminsional reduction methods like PCA or LDA \n",
        "    "
      ]
    },
    {
      "metadata": {
        "id": "fv1DrC0cmjuo",
        "colab_type": "text"
      },
      "cell_type": "markdown",
      "source": [
        "## K-Nearest Neighbors (KNN)\n",
        "\n",
        "K-Nearest Neighbors is a relatively simple classification algorithm. Given a set of labeled data, when a new unknown data point needs to be classified, we find the known points that are closest to it. \n",
        "\n",
        "Let's say we are classifying fruit as either apples or oranges. Assume we measure two parameters for each fruit.\n",
        "- The smoothness as a number between 1 and 10 \n",
        "- Amount of red color as a number between 0 and 25\n",
        "\n",
        "We have a set of fruit we already know are either apples or oranges. When a new fruit arrives we measure its smoothness and red color and compare these values to the known fruit as follows:\n",
        "1. We use the Euclidean distance to calculate how near the new fruit is to every known fruit.\n",
        "1. We find the 3 nearest known fruits. Let us assume they are an Orange, an Apple and another Apple.\n",
        "1. We classify the new fruit based on what is the most common type of neighbor, in this case, it is labeled as an Apple since two of the three neighbors are apples.\n",
        "\n",
        "In the example above we looked at the 3 nearest neighbors, but we could have just as well looked at the 5 nearest neighbors or the 10 nearest neighbors. In general, we use the term K Nearest Neighbors and assume K can be any whole number.\n",
        "\n",
        "The KNN algorithm works well for small datasets but does not work well on large datasets since it can take a lot of time and memory to compare the new item with every known item in the data set.\n",
        "\n",
        "For another overview see [KNN Classification using Scikit-learn](https://www.datacamp.com/community/tutorials/k-nearest-neighbor-classification-scikit-learn) by Avinash Navlani\n",
        "\n",
        "\n",
        "---\n",
        "\n",
        "*I am still looking for a good video introduction to KNN. If anyone finds one, please post it to the discussion area. *"
      ]
    },
    {
      "metadata": {
        "id": "KagBP_MFwlbL",
        "colab_type": "text"
      },
      "cell_type": "markdown",
      "source": [
        "## Task 1: Applying K-Nearest Neighbors\n",
        "\n",
        "Using the graph below\n",
        "which plots data related to Apples and Oranges, determine the following by k-nearest neighbors using either visual inspection or simple measuring:\n",
        "1.\tThe classification of the x at  (18.8, 4.9) when k = 1:\t Looking at the 1 nearest neighbor, should the x be classified as an Apple, an Orange, or  Neither\n",
        "1.\tThe classification of the x at  (18.8, 4.9) when k = 3: Looking at the 3 nearest neighbors, should the x be classified as an Apple, an Orange, or  Neither\n",
        "1.\tThe classification of the x at  (18.8, 4.9) when k = 5: Looking at the 5 nearest neighbors, should the x be classified as an Apple, an Orange, or  Neither\n",
        "\n",
        "![KNN Image]( https://raw.githubusercontent.com/CIS3115-Machine-Learning-Scholastica/CIS3115ML-Units3and4/master/K_nearest_neighbors.jpg )\n",
        "  \n",
        "---\n",
        "*Double-click on this cell to put your answer here...*"
      ]
    },
    {
      "metadata": {
        "id": "yk4dqjQMwal8",
        "colab_type": "text"
      },
      "cell_type": "markdown",
      "source": [
        "## Task 2: Test out different values of K\n",
        "\n",
        "The code below runs the KNN algorithm initially with 5 neighbors. Try this code out with different numbers of neighbors and record the results here.\n",
        "\n",
        "The closer to 100% or 1.0 the better for this score.\n",
        "\n",
        "  \n",
        "---\n",
        "- Score for 1 Neighbor: \n",
        "- Score for 3 Neighbor:\n",
        "- Score for 5 Neighbor: 0.96\n",
        "- Score for 20 Neighbor:\n",
        "- Score for 50 Neighbor:\n",
        "- Score for 100  Neighbor:\n",
        "- Score of your choice:\n",
        "- Score of your choice:\n",
        "- Score of your choice:"
      ]
    },
    {
      "metadata": {
        "id": "9l168ErKy-wu",
        "colab_type": "code",
        "colab": {}
      },
      "cell_type": "code",
      "source": [
        ""
      ],
      "execution_count": 0,
      "outputs": []
    },
    {
      "metadata": {
        "id": "BtiqXsUReWfe",
        "colab_type": "code",
        "outputId": "2b159f8b-261a-441a-d060-5a2bfa0b51b1",
        "colab": {
          "base_uri": "https://localhost:8080/",
          "height": 35
        }
      },
      "cell_type": "code",
      "source": [
        "from sklearn.neighbors import KNeighborsClassifier\n",
        "# Set up the K-Nearest neighbor model using the k nearest neighbors. Change the value of n_neighbors\n",
        "knn_model = KNeighborsClassifier(n_neighbors=1)\n",
        "# Train the model on the iris data\n",
        "knn_model.fit(X_train, y_train)\n",
        "score = knn_model.score(X_test, y_test)\n",
        "print (\"The score for this model is \", score)"
      ],
      "execution_count": 16,
      "outputs": [
        {
          "output_type": "stream",
          "text": [
            "The score for this model is  0.9333333333333333\n"
          ],
          "name": "stdout"
        }
      ]
    },
    {
      "metadata": {
        "id": "xSXdwQJNeXBm",
        "colab_type": "text"
      },
      "cell_type": "markdown",
      "source": [
        "## Task 3: Prediction\n",
        "Once we have trained or fit the model to the data, we can use it to make predictions.\n",
        "\n",
        "Here we will predict the iris species for a new flower with \n",
        "- SepalLengthCm = 5.2\t\n",
        "- SepalWidthCm = 3.3\n",
        "- PetalLengthCm = 1.4\n",
        "- PetalWidthCm\t= 0.2\n",
        "\n",
        "This should be a Iris-setosa\n",
        "\n",
        "Change the code below to make a prediction for a new flower with the following measurements.\n",
        "- SepalLengthCm = 4.2\t\n",
        "- SepalWidthCm = 3.0\n",
        "- PetalLengthCm = 3.4\n",
        "- PetalWidthCm\t= 1.2\n",
        "\n",
        "This should be a Iris-setosa"
      ]
    },
    {
      "metadata": {
        "id": "PgKbiMMjeWmO",
        "colab_type": "code",
        "outputId": "c73d27ca-af95-46ed-fb39-3816190252f7",
        "colab": {
          "base_uri": "https://localhost:8080/",
          "height": 35
        }
      },
      "cell_type": "code",
      "source": [
        "# The parameter order is SepalLengthCm, SepalWidthCm, PetalLengthCm, PetalWidthCm\n",
        "\n",
        "prediction = knn_model.predict([[5.2, 3.3, 1.4, 0.2]])\n",
        "\n",
        "print (\"Predicted iris species is \", prediction)\n"
      ],
      "execution_count": 17,
      "outputs": [
        {
          "output_type": "stream",
          "text": [
            "Predicted iris species is  ['Iris-setosa']\n"
          ],
          "name": "stdout"
        }
      ]
    },
    {
      "metadata": {
        "id": "SG-GH5NIkZ94",
        "colab_type": "text"
      },
      "cell_type": "markdown",
      "source": [
        "## Support Vector Machine (SVM)\n",
        "\n",
        "SVM is another algorithm for classifying data. It tries to divide the data up using lines, sometimes straight linear lines and sometimes curved lines.\n",
        "\n",
        "SVM tries to find the best lines, actually, a plain in multiple dimensions, to divide the data up into the known categories.\n",
        "\n",
        "For a good introduction, see the first part of [Support Vector Machine — Introduction to Machine Learning Algorithms](https://towardsdatascience.com/support-vector-machine-introduction-to-machine-learning-algorithms-934a444fca47). * (I suggest you stop at the Cost Function and Gradient Updates because the math and coding get too complex for this course.) *\n",
        "\n",
        "For a good video tutorial that explains SVM using baking cupcakes and muffins as an example is Alice Zhao's [Support Vector Machines: A Visual Explanation with Sample Python Code](https://www.youtube.com/watch?v=N1vOgolbjSc)\n",
        "\n",
        "\n"
      ]
    },
    {
      "metadata": {
        "id": "zZJk_Ve1vNl5",
        "colab_type": "text"
      },
      "cell_type": "markdown",
      "source": [
        "## Task 4: SVM Kernels and Parameters\n",
        "\n",
        "### kernels\n",
        "Support Vector Machines have different ways of defining the lines or hyperplanes separating the data into classes. These are called kernels in our software. You will try out two:\n",
        "- linear - uses only straight lines\n",
        "- rbf - [Radial Basis Function](http://openclassroom.stanford.edu/MainFolder/DocumentPage.php?course=MachineLearning&doc=exercises/ex8/ex8.html)\n",
        "\n",
        "### C penalty parameter\n",
        "Besides the kernel, there are a number of other parameters you can set on the SVM algorithm. We will look only at one called \"C\" which is the penalty the algorithm pays for misclassifying a point. As C gets above 1, the algorithm tries not to misclassify any points. For a good overview, see the [second answer in the StackOverflow question](https://stats.stackexchange.com/questions/31066/what-is-the-influence-of-c-in-svms-with-linear-kernel).\n",
        "  \n",
        "---\n",
        "Run the code below for both the linear and rbf kernels and different values of the C penalty parameter. Note the resulting score here. A score of 100% or 1.0 is the best.\n",
        "\n",
        "- linear kernel with C=1.0 gave a score of 0.96\n",
        "- rbf kernel with C=1.0 gave a score of ???\n",
        "- \n",
        "- record other values here\n",
        "- "
      ]
    },
    {
      "metadata": {
        "id": "AaIbAyLZkY6o",
        "colab_type": "code",
        "outputId": "8ece2ab3-927d-419b-9abb-dc7bdad4ad55",
        "colab": {
          "base_uri": "https://localhost:8080/",
          "height": 35
        }
      },
      "cell_type": "code",
      "source": [
        "from sklearn.svm import SVC\n",
        "\n",
        "# Set up SVM model with a given kernel and c parameter\n",
        "svm_model = SVC(C=1.0, kernel='linear')          # linear SVM\n",
        "#svm_model = SVC(C=10.0, kernel='rbf')           # non-linear SVM\n",
        "\n",
        "# Train the model on the iris data\n",
        "svm_model.fit(X_train, y_train)\n",
        "score = svm_model.score(X_test, y_test)\n",
        "print (\"The score for this model is \", score)"
      ],
      "execution_count": 0,
      "outputs": [
        {
          "output_type": "stream",
          "text": [
            "The score for this model is  0.9666666666666667\n"
          ],
          "name": "stdout"
        }
      ]
    },
    {
      "metadata": {
        "id": "oqKUZcTLkY--",
        "colab_type": "code",
        "colab": {}
      },
      "cell_type": "code",
      "source": [
        ""
      ],
      "execution_count": 0,
      "outputs": []
    },
    {
      "metadata": {
        "colab_type": "text",
        "id": "emcNsSr-K-Cw"
      },
      "cell_type": "markdown",
      "source": [
        "# Decision Trees \n",
        "This classification method tries to break the classification task into a series of decisions structured as a tree.\n",
        "Here is a sample from the [SKlearn documentation for decision trees](https://scikit-learn.org/stable/auto_examples/tree/plot_unveil_tree_structure.html).\n",
        "![alt text](https://scikit-learn.org/stable/_images/iris.png)\n",
        "\n",
        "For more information on decision trees see:\n",
        "*  An OK tutorial from medium.com [Decision Tree Classifier — Theory](https://medium.com/machine-learning-101/chapter-3-decision-trees-theory-e7398adac567)\n",
        "* Use  https://en.wikipedia.org/wiki/Decision_tree as a reference\n",
        "*   "
      ]
    },
    {
      "metadata": {
        "colab_type": "text",
        "id": "89deu-DIK-C4"
      },
      "cell_type": "markdown",
      "source": [
        "## Running Decision Tree model\n",
        "\n",
        "The code below will set up a simple decision tree model and run it. In general, decision trees do not have parameters to select."
      ]
    },
    {
      "metadata": {
        "colab_type": "code",
        "outputId": "6bafe7df-567b-41a3-9b50-4629e5af9aad",
        "id": "6gb28rTlK-C5",
        "colab": {
          "base_uri": "https://localhost:8080/",
          "height": 35
        }
      },
      "cell_type": "code",
      "source": [
        "from sklearn.tree import DecisionTreeClassifier\n",
        "DT_model = DecisionTreeClassifier()\n",
        "\n",
        "# Train the model on the iris data\n",
        "DT_model.fit(X_train, y_train)\n",
        "score = DT_model.score(X_test, y_test)\n",
        "print (\"The score for this model is \", score)"
      ],
      "execution_count": 0,
      "outputs": [
        {
          "output_type": "stream",
          "text": [
            "The score for this model is  0.9666666666666667\n"
          ],
          "name": "stdout"
        }
      ]
    },
    {
      "metadata": {
        "id": "mEuPVnRDdGpu",
        "colab_type": "text"
      },
      "cell_type": "markdown",
      "source": [
        "## Task 5: When to select SVM version Decision Trees\n",
        "\n",
        "Do some research comparing Support Vector Machines and Decision Trees and list two reasons for selecting one model over another.\n",
        "\n",
        "### Reason 1\n",
        "\n",
        "### Reason 2\n",
        "\n",
        "\n"
      ]
    },
    {
      "metadata": {
        "id": "RUzZntKj1QFz",
        "colab_type": "text"
      },
      "cell_type": "markdown",
      "source": [
        "## Wrapping Up\n",
        "\n",
        "Remember to **share this sheet with your instructo**r and submit a link to it in Blackboard."
      ]
    },
    {
      "metadata": {
        "id": "hNmZlPcKWv12",
        "colab_type": "code",
        "colab": {}
      },
      "cell_type": "code",
      "source": [
        ""
      ],
      "execution_count": 0,
      "outputs": []
    }
  ]
}